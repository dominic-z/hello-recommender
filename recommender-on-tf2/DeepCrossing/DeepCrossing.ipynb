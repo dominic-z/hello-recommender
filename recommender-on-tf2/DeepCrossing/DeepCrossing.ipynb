{
 "cells": [
  {
   "cell_type": "code",
   "execution_count": 2,
   "metadata": {
    "collapsed": true
   },
   "outputs": [],
   "source": [
    "import tensorflow as tf\n",
    "import numpy as np"
   ]
  },
  {
   "cell_type": "code",
   "execution_count": 7,
   "outputs": [],
   "source": [
    "class ResidualLayer(tf.keras.layers.Layer):\n",
    "    \"\"\"\n",
    "    非常简单的残差层\n",
    "    \"\"\"\n",
    "    def __init__(self,units,*args,**kwargs):\n",
    "        super(ResidualLayer,self).__init__(*args,**kwargs)\n",
    "        self.dense1=tf.keras.layers.Dense(units=units,activation=tf.nn.relu)\n",
    "        self.dense2=tf.keras.layers.Dense(units=units,activation=tf.nn.relu)\n",
    "\n",
    "    def call(self, inputs, **kwargs):\n",
    "        outputs=self.dense1(inputs)\n",
    "        outputs=self.dense2(outputs)\n",
    "        return outputs+inputs\n",
    "\n",
    "class DeepCrossing(tf.keras.Model):\n",
    "    \"\"\"\n",
    "    deep crossing model，非常简单\n",
    "    \"\"\"\n",
    "    def __init__(self,emb_input_output_dims,dense_feature_dim,res_layer_num,first_layer_units,*args,**kwargs):\n",
    "        \"\"\"\n",
    "\n",
    "        :param emb_input_output_dims: [(int,int)] 用于构建多个embedding layer，每个tuple对应一个emb layer的参数\n",
    "        :param dense_feature_dim: int 不需要embedding的特征的维度数目，需要这个值是因为res layer的构建需要这个值\n",
    "        :param res_layer_num: int 后面跟多少层的res layer\n",
    "        :param first_layer_units: int 最终的scoring layer的units\n",
    "        :param args:\n",
    "        :param kwargs:\n",
    "        \"\"\"\n",
    "        super(DeepCrossing,self).__init__(*args,**kwargs)\n",
    "        self.emb_layers=list()\n",
    "        emb_output_dim_sum=0\n",
    "        for input_dim,output_dim in emb_input_output_dims:\n",
    "            self.emb_layers.append(tf.keras.layers.Embedding(input_dim=input_dim,output_dim=output_dim))\n",
    "            emb_output_dim_sum+=output_dim\n",
    "        self.res_layers=list()\n",
    "        for _ in range(res_layer_num):\n",
    "            self.res_layers.append(ResidualLayer(units=emb_output_dim_sum+dense_feature_dim))\n",
    "\n",
    "        self.scoring_layer=tf.keras.layers.Dense(units=first_layer_units)\n",
    "\n",
    "    def call(self, inputs,emb_indices,dense_index_bounds, training=None, mask=None):\n",
    "        \"\"\"\n",
    "\n",
    "        :param inputs: tensor or np.ndarray shape如[batch_size,inputs_feature_dim]\n",
    "        :param emb_indices: [int] 如[1,2,0]，代表inputs[:,1]输入到第0个emb layer，inputs[:,2]输入到第1个emb layer\n",
    "        :param dense_index_bounds: [int,int]，代表inputs[:,int1:int2]是dense特征，不需要embedding\n",
    "        :param training:\n",
    "        :param mask:\n",
    "        :return:\n",
    "        \"\"\"\n",
    "        outputs=list()\n",
    "        for i,emb_index in enumerate(emb_indices):\n",
    "            outputs.append(self.emb_layers[i](inputs[:,emb_index]))\n",
    "        dense_features=inputs[:,dense_index_bounds[0]:dense_index_bounds[1]]\n",
    "        outputs.append(dense_features)\n",
    "        outputs=tf.concat(outputs,axis=1)\n",
    "\n",
    "        for res_layer in self.res_layers:\n",
    "            outputs=res_layer(outputs)\n",
    "\n",
    "        outputs=self.scoring_layer(outputs)\n",
    "        return outputs"
   ],
   "metadata": {
    "collapsed": false,
    "pycharm": {
     "name": "#%%\n"
    }
   }
  },
  {
   "cell_type": "code",
   "execution_count": 9,
   "outputs": [
    {
     "data": {
      "text/plain": "<tf.Tensor: shape=(10, 2), dtype=float32, numpy=\narray([[-0.05615745, -0.39201617],\n       [-0.03101929,  0.11204635],\n       [ 0.68100584, -0.5315722 ],\n       [ 0.745041  ,  0.2756614 ],\n       [ 0.36445537, -0.69298005],\n       [ 0.6602211 , -0.07050404],\n       [ 0.27042696, -0.15288569],\n       [ 0.11031098,  0.1377054 ],\n       [ 0.3945523 , -0.73828685],\n       [ 0.19533552,  0.07399537]], dtype=float32)>"
     },
     "execution_count": 9,
     "metadata": {},
     "output_type": "execute_result"
    }
   ],
   "source": [
    "input_arr=np.concatenate([np.random.randint(0,5,size=[10,2]),np.random.random(size=[10,10])],axis=1).astype(np.float32)\n",
    "\n",
    "deep_crossing=DeepCrossing(emb_input_output_dims=[(5,2),(5,3)],dense_feature_dim=10,res_layer_num=2,first_layer_units=1)\n",
    "\n",
    "deep_crossing(input_arr,emb_indices=[0,1],dense_index_bounds=[2,12])"
   ],
   "metadata": {
    "collapsed": false,
    "pycharm": {
     "name": "#%%\n"
    }
   }
  },
  {
   "cell_type": "code",
   "execution_count": null,
   "outputs": [],
   "source": [
    "\n"
   ],
   "metadata": {
    "collapsed": false,
    "pycharm": {
     "name": "#%%\n"
    }
   }
  }
 ],
 "metadata": {
  "kernelspec": {
   "display_name": "Python 3",
   "language": "python",
   "name": "python3"
  },
  "language_info": {
   "codemirror_mode": {
    "name": "ipython",
    "version": 2
   },
   "file_extension": ".py",
   "mimetype": "text/x-python",
   "name": "python",
   "nbconvert_exporter": "python",
   "pygments_lexer": "ipython2",
   "version": "2.7.6"
  }
 },
 "nbformat": 4,
 "nbformat_minor": 0
}