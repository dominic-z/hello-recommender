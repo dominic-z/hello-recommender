{
 "cells": [
  {
   "cell_type": "code",
   "execution_count": 1,
   "metadata": {
    "collapsed": true
   },
   "outputs": [],
   "source": [
    "import numpy as np\n",
    "import tensorflow as tf"
   ]
  },
  {
   "cell_type": "code",
   "execution_count": 2,
   "outputs": [
    {
     "name": "stdout",
     "output_type": "stream",
     "text": [
      "tf.Tensor(\n",
      "[[0 0 0]\n",
      " [0 1 0]\n",
      " [1 0 1]\n",
      " [1 1 1]\n",
      " [2 0 1]\n",
      " [2 0 2]\n",
      " [2 1 0]\n",
      " [2 1 1]\n",
      " [2 1 2]\n",
      " [3 0 1]\n",
      " [3 0 2]\n",
      " [3 1 1]\n",
      " [3 1 2]\n",
      " [4 0 1]\n",
      " [4 1 0]\n",
      " [4 1 2]], shape=(16, 3), dtype=int64)\n"
     ]
    }
   ],
   "source": [
    "def dense_to_sparse(dense_arr):\n",
    "    arr_idx=tf.where(tf.not_equal(dense_arr,1))\n",
    "    arr_value=tf.gather_nd(dense_arr,indices=arr_idx)\n",
    "    return tf.sparse.SparseTensor(indices=arr_idx,values=arr_value,dense_shape=dense_arr.shape)\n",
    "dense_arr=np.random.choice([0,1],size=[5,2,3])\n",
    "\n",
    "sparse_vec=dense_to_sparse(dense_arr)\n",
    "print(sparse_vec.indices)"
   ],
   "metadata": {
    "collapsed": false,
    "pycharm": {
     "name": "#%%\n"
    }
   }
  },
  {
   "cell_type": "code",
   "execution_count": null,
   "outputs": [],
   "source": [
    "# 处理输入如果有one hot 和multi hot两种类型的embedding\n",
    "class InputProcessLayer(tf.keras.layers.Layer):\n",
    "    def __init__(self,feature_num,emb_size,*args,**kwargs):\n",
    "        super(InputProcessLayer,self).__init__(*args,**kwargs)\n",
    "        self.emb_table=tf.Variable(tf.random.truncated_normal(shape=[feature_num,emb_size]))\n",
    "\n",
    "    def call(self, inputs, **kwargs):\n",
    "        \"\"\"\n",
    "        将输入分成两部分，第一部分是one-hot的feature，第二部分是multi-hot的feature向量\n",
    "        该代码中只用了一个非常大的emb_table，可以修改\n",
    "        :param inputs: tensor: ((batch_size, dense_one_hot_features), ((batch_size, multi_hot_features), ...))\n",
    "            例如[([[1,2,3],[4,5,6]]), ([[0,1,1,0],[1,0,0,1]], [[0,1,1,0],[1,0,0,1]])]\n",
    "            分为两部分，第一部分为全部的one-hot类型的dense特征，第二部分包含多个multi-hot的稀疏te'zheng\n",
    "        :param kwargs:\n",
    "        :return:\n",
    "        \"\"\"\n",
    "        one_hot_batch,multi_hot_batches=inputs\n",
    "        one_hot_emb_vector=tf.nn.embedding_lookup(params=self.emb_table,ids=one_hot_batch)\n",
    "\n",
    "        multi_hot_emb_vectors=list()\n",
    "        for multi_hot_batch in multi_hot_batches:\n",
    "            multi_hot_sparse_batch=dense_to_sparse(multi_hot_batch)\n",
    "            multi_hot_emb_vector=tf.nn.embedding_lookup_sparse(params=self.emb_table,sp_ids=multi_hot_sparse_batch,sp_weights=None)\n",
    "            multi_hot_emb_vectors.append(multi_hot_emb_vector)\n",
    "        return one_hot_emb_vector,multi_hot_emb_vectors\n",
    "\n",
    "one_hot_arr=np.random.randint(0,3,size=[10,3])\n",
    "one_hot_ds=tf.data.Dataset.from_tensor_slices(one_hot_arr)\n",
    "multi_hot_arr1=np.random.randint(3,5,size=[10,2])\n",
    "multi_hot_arr2=np.random.randint(6,9,size=[10,3])\n",
    "multi_hot_ds=tf.data.Dataset.from_tensor_slices((multi_hot_arr1,multi_hot_arr2))\n",
    "\n",
    "ds=tf.data.Dataset.zip((one_hot_ds,multi_hot_ds))\n",
    "batched_ds = ds.batch(4)\n",
    "\n",
    "iterator=iter(batched_ds)\n",
    "one_batch = next(iterator)\n",
    "one_batch = next(iterator)\n",
    "one_batch = next(iterator)\n",
    "\n",
    "input_process_layer=InputProcessLayer(feature_num=10,emb_size=2)\n",
    "input_process_layer(one_batch)\n"
   ],
   "metadata": {
    "collapsed": false,
    "pycharm": {
     "name": "#%%\n"
    }
   }
  }
 ],
 "metadata": {
  "kernelspec": {
   "display_name": "Python 3",
   "language": "python",
   "name": "python3"
  },
  "language_info": {
   "codemirror_mode": {
    "name": "ipython",
    "version": 2
   },
   "file_extension": ".py",
   "mimetype": "text/x-python",
   "name": "python",
   "nbconvert_exporter": "python",
   "pygments_lexer": "ipython2",
   "version": "2.7.6"
  }
 },
 "nbformat": 4,
 "nbformat_minor": 0
}